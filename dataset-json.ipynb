{
 "cells": [
  {
   "cell_type": "markdown",
   "metadata": {},
   "source": [
    "# Dataset-JSON Notebook"
   ]
  },
  {
   "cell_type": "markdown",
   "metadata": {},
   "source": [
    "## Update JSON Schema from LinkML\n",
    "Run the below to pick up schema modifications made in the `schema/dataset.yaml` LinkML file.\n",
    "\n",
    "Inspect the `generated_dataset.schema.json` file created and replace the existing `dataset.schema.json` with it once approved"
   ]
  },
  {
   "cell_type": "code",
   "execution_count": null,
   "metadata": {},
   "outputs": [],
   "source": [
    "# Generate JSON Schema\n",
    "# https://linkml.io/linkml/generators/json-schema.html#json-schema\n",
    "!gen-json-schema schema/dataset.yaml --closed --include-range-class-descendants -i > schema/generated_dataset.schema.json\n",
    "\n",
    "import json\n",
    "with open('schema/generated_dataset.schema.json', 'r') as file:\n",
    "    schema = json.load(file)\n",
    "\n",
    "# Set the type of Row to \"array\" instead of \"object\" to handle nested list of lists\n",
    "# Workaround using inlined 'Row' object is needed until array support in LinkML is mature\n",
    "schema[\"$defs\"][\"Row\"][\"type\"] = \"array\"\n",
    "\n",
    "with open('schema/generated_dataset.schema.json', 'w') as file:\n",
    "    json.dump(schema, file, indent=4)"
   ]
  },
  {
   "cell_type": "markdown",
   "metadata": {},
   "source": [
    "## Validate a file"
   ]
  },
  {
   "cell_type": "code",
   "execution_count": null,
   "metadata": {},
   "outputs": [],
   "source": [
    "import json\n",
    "from jsonschema import validate\n",
    "with open('examples/adam/adsl.json', 'r') as file:\n",
    "    with open('schema/dataset.schema.json', 'r') as schema_file:\n",
    "        validation_findings = validate(instance = json.load(file), schema = json.load(schema_file))\n",
    "if not validation_findings:\n",
    "    print('Passed Validation')"
   ]
  }
 ],
 "metadata": {
  "kernelspec": {
   "display_name": ".venv",
   "language": "python",
   "name": "python3"
  },
  "language_info": {
   "codemirror_mode": {
    "name": "ipython",
    "version": 3
   },
   "file_extension": ".py",
   "mimetype": "text/x-python",
   "name": "python",
   "nbconvert_exporter": "python",
   "pygments_lexer": "ipython3",
   "version": "3.9.7"
  }
 },
 "nbformat": 4,
 "nbformat_minor": 2
}
